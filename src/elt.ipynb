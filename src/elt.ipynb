{
 "cells": [
  {
   "cell_type": "code",
   "execution_count": 17,
   "metadata": {},
   "outputs": [],
   "source": [
    "import pandas as pd\n",
    "import requests\n",
    "from secrets_config import api_key_id, api_secret_key "
   ]
  },
  {
   "attachments": {},
   "cell_type": "markdown",
   "metadata": {},
   "source": [
    "Extract data for Alpaca Stocks API"
   ]
  },
  {
   "cell_type": "code",
   "execution_count": 19,
   "metadata": {},
   "outputs": [],
   "source": [
    "# Data retrieved for tesla stock from date between 2020-01-01 t0 2020-01-02\n",
    "# Documentation for authorisation and api reference at URL https://alpaca.markets/docs/api-references/trading-api/\n",
    "\n",
    "stock_ticker = \"tsla\"\n",
    "\n",
    "## f string format for base url\n",
    "base_url = f\"https://data.alpaca.markets/v2/stocks/{stock_ticker}/trades\"\n",
    "\n",
    "## start date and end date in unix format\n",
    "start_time = \"2020-01-01T00:00:00.00Z\"\n",
    "end_time = \"2020-01-02T00:00:00.00Z\"\n",
    "\n",
    "## array to store response data\n",
    "response_data = []\n",
    "\n",
    "## parameters for passing for rest API\n",
    "params = {\n",
    "    \"start\": start_time,\n",
    "    \"end\": end_time\n",
    "}\n",
    "\n",
    "## Headers for secrets authorisation\n",
    "headers = {\n",
    "    \"APCA-API-KEY-ID\": api_key_id,\n",
    "    \"APCA-API-SECRET-KEY\": api_secret_key\n",
    "}\n",
    "\n",
    "response = requests.get(base_url, params=params, headers=headers)\n",
    "\n",
    "if response.json().get(\"trades\") is not None:\n",
    "    response_data.extend(response.json().get(\"trades\"))"
   ]
  },
  {
   "cell_type": "code",
   "execution_count": 20,
   "metadata": {},
   "outputs": [],
   "source": [
    "# read trade data into a dataframe\n",
    "df = pd.json_normalize(data=response_data, max_level=0)"
   ]
  },
  {
   "cell_type": "code",
   "execution_count": 23,
   "metadata": {},
   "outputs": [],
   "source": [
    "# read exchange codes data into a dataframe \n",
    "df_exchange_codes = pd.read_csv(\"data/exchange_codes.csv\")"
   ]
  },
  {
   "attachments": {},
   "cell_type": "markdown",
   "metadata": {},
   "source": [
    "Load data"
   ]
  },
  {
   "cell_type": "code",
   "execution_count": 27,
   "metadata": {},
   "outputs": [],
   "source": [
    "# import libraries for sql \n",
    "from sqlalchemy import create_engine, Table, Column, Integer, String, MetaData, Float, JSON \n",
    "from sqlalchemy.engine import URL\n",
    "from sqlalchemy.dialects import postgresql\n",
    "from secrets_config import db_user, db_password, db_server_name, db_database_name"
   ]
  },
  {
   "cell_type": "code",
   "execution_count": 28,
   "metadata": {},
   "outputs": [],
   "source": [
    "# create connection to database(Postgres)\n",
    "connection_url = URL.create(\n",
    "    drivername = \"postgresql+pg8000\", \n",
    "    username = db_user,\n",
    "    password = db_password,\n",
    "    host = db_server_name, \n",
    "    port = 5432,\n",
    "    database = db_database_name, \n",
    ")\n",
    "\n",
    "engine = create_engine(connection_url)"
   ]
  },
  {
   "cell_type": "code",
   "execution_count": 29,
   "metadata": {},
   "outputs": [],
   "source": [
    "# create meta object \n",
    "meta = MetaData()\n",
    "\n",
    "# specify trade data table schema \n",
    "# see field definition here: https://alpaca.markets/docs/api-references/market-data-api/stock-pricing-data/historical/#trade \n",
    "trades_table = Table(\n",
    "    \"raw_trades\", meta, \n",
    "    Column(\"i\", Integer, primary_key=True),\n",
    "    Column(\"t\", String),\n",
    "    Column(\"x\", String),\n",
    "    Column(\"p\", Float),\n",
    "    Column(\"s\", Integer),\n",
    "    Column(\"c\", String),\n",
    "    Column(\"z\", String)\n",
    ")\n",
    "\n",
    "# specify exchange codes table schema \n",
    "exchange_codes_table = Table(\n",
    "    \"raw_exchange_codes\", meta, \n",
    "    Column(\"exchange_code\", String, primary_key=True), \n",
    "    Column(\"exchange_name\", String)\n",
    ")\n",
    "\n",
    "# creates table if it does not exist \n",
    "meta.create_all(engine) "
   ]
  },
  {
   "cell_type": "code",
   "execution_count": 32,
   "metadata": {},
   "outputs": [
    {
     "ename": "AttributeError",
     "evalue": "'Engine' object has no attribute 'execute'",
     "output_type": "error",
     "traceback": [
      "\u001b[1;31m---------------------------------------------------------------------------\u001b[0m",
      "\u001b[1;31mAttributeError\u001b[0m                            Traceback (most recent call last)",
      "Cell \u001b[1;32mIn[32], line 6\u001b[0m\n\u001b[0;32m      2\u001b[0m insert_statement \u001b[39m=\u001b[39m postgresql\u001b[39m.\u001b[39minsert(trades_table)\u001b[39m.\u001b[39mvalues(df\u001b[39m.\u001b[39mto_dict(orient\u001b[39m=\u001b[39m\u001b[39m'\u001b[39m\u001b[39mrecords\u001b[39m\u001b[39m'\u001b[39m))\n\u001b[0;32m      3\u001b[0m upsert_statement \u001b[39m=\u001b[39m insert_statement\u001b[39m.\u001b[39mon_conflict_do_update(\n\u001b[0;32m      4\u001b[0m     index_elements\u001b[39m=\u001b[39m[\u001b[39m'\u001b[39m\u001b[39mi\u001b[39m\u001b[39m'\u001b[39m],\n\u001b[0;32m      5\u001b[0m     set_\u001b[39m=\u001b[39m{c\u001b[39m.\u001b[39mkey: c \u001b[39mfor\u001b[39;00m c \u001b[39min\u001b[39;00m insert_statement\u001b[39m.\u001b[39mexcluded \u001b[39mif\u001b[39;00m c\u001b[39m.\u001b[39mkey \u001b[39mnot\u001b[39;00m \u001b[39min\u001b[39;00m [\u001b[39m'\u001b[39m\u001b[39mi\u001b[39m\u001b[39m'\u001b[39m]})\n\u001b[1;32m----> 6\u001b[0m engine\u001b[39m.\u001b[39;49mexecute(upsert_statement)\n\u001b[0;32m      8\u001b[0m \u001b[39m# upsert data to exchange codes table \u001b[39;00m\n\u001b[0;32m      9\u001b[0m insert_statement \u001b[39m=\u001b[39m postgresql\u001b[39m.\u001b[39minsert(exchange_codes_table)\u001b[39m.\u001b[39mvalues(df_exchange_codes\u001b[39m.\u001b[39mto_dict(orient\u001b[39m=\u001b[39m\u001b[39m'\u001b[39m\u001b[39mrecords\u001b[39m\u001b[39m'\u001b[39m))\n",
      "\u001b[1;31mAttributeError\u001b[0m: 'Engine' object has no attribute 'execute'"
     ]
    }
   ],
   "source": [
    "# upsert data to trade table \n",
    "insert_statement = postgresql.insert(trades_table).values(df.to_dict(orient='records'))\n",
    "upsert_statement = insert_statement.on_conflict_do_update(\n",
    "    index_elements=['i'],\n",
    "    set_={c.key: c for c in insert_statement.excluded if c.key not in ['i']})\n",
    "engine.execute(upsert_statement)\n",
    "\n",
    "# upsert data to exchange codes table \n",
    "insert_statement = postgresql.insert(exchange_codes_table).values(df_exchange_codes.to_dict(orient='records'))\n",
    "upsert_statement = insert_statement.on_conflict_do_update(\n",
    "    index_elements=['exchange_code'],\n",
    "    set_={c.key: c for c in insert_statement.excluded if c.key not in ['exchange_code']})\n",
    "engine.execute(upsert_statement)"
   ]
  },
  {
   "attachments": {},
   "cell_type": "markdown",
   "metadata": {},
   "source": [
    "Transform"
   ]
  },
  {
   "cell_type": "code",
   "execution_count": 21,
   "metadata": {},
   "outputs": [
    {
     "data": {
      "text/plain": [
       "<sqlalchemy.engine.cursor.LegacyCursorResult at 0x7f9dbe98ee20>"
      ]
     },
     "execution_count": 21,
     "metadata": {},
     "output_type": "execute_result"
    }
   ],
   "source": [
    "# create a staging table for trades and rename columns to more meaningful names \n",
    "\n",
    "target_table = \"staging_trades\"\n",
    "engine.execute(f\"drop table if exists {target_table}\")\n",
    "\n",
    "engine.execute(f\"\"\"\n",
    "    create table {target_table} as (\n",
    "        select \n",
    "            i as id, \n",
    "            to_timestamp(t, 'YYYY-MM-DDTHH:MI:SS') as timestamp, \n",
    "            x as exchange, \n",
    "            p as trade_price, \n",
    "            s as trade_size, \n",
    "            c as trade_conditions, \n",
    "            z as tape\n",
    "        from \n",
    "            raw_trades \n",
    "    )\n",
    "\"\"\")"
   ]
  },
  {
   "cell_type": "code",
   "execution_count": 23,
   "metadata": {},
   "outputs": [
    {
     "data": {
      "text/plain": [
       "<sqlalchemy.engine.cursor.LegacyCursorResult at 0x7f9dbe98e130>"
      ]
     },
     "execution_count": 23,
     "metadata": {},
     "output_type": "execute_result"
    }
   ],
   "source": [
    "# create a staging table for exchange codes\n",
    "\n",
    "target_table = \"staging_exchange_codes\"\n",
    "engine.execute(f\"drop table if exists {target_table}\")\n",
    "\n",
    "engine.execute(f\"\"\"\n",
    "    create table {target_table} as (\n",
    "        select \n",
    "            exchange_code, \n",
    "            exchange_name\n",
    "        from \n",
    "            raw_exchange_codes \n",
    "    )\n",
    "\"\"\")"
   ]
  },
  {
   "cell_type": "code",
   "execution_count": 25,
   "metadata": {},
   "outputs": [
    {
     "data": {
      "text/plain": [
       "<sqlalchemy.engine.cursor.LegacyCursorResult at 0x7f9dbebdbb20>"
      ]
     },
     "execution_count": 25,
     "metadata": {},
     "output_type": "execute_result"
    }
   ],
   "source": [
    "# create a serving table by joining staging_trades with staging_exchange_codes\n",
    "\n",
    "target_table = \"serving_trades\"\n",
    "engine.execute(f\"drop table if exists {target_table}\")\n",
    "\n",
    "engine.execute(f\"\"\"\n",
    "    create table {target_table} as (\n",
    "        select \n",
    "            id, \n",
    "            timestamp,  \n",
    "            exchange_name,\n",
    "            trade_price, \n",
    "            trade_size, \n",
    "            trade_conditions, \n",
    "            tape\n",
    "        from \n",
    "            staging_trades st inner join staging_exchange_codes sec \n",
    "            on st.exchange = sec.exchange_code\n",
    "    )\n",
    "\"\"\")"
   ]
  },
  {
   "cell_type": "code",
   "execution_count": null,
   "metadata": {},
   "outputs": [],
   "source": []
  }
 ],
 "metadata": {
  "interpreter": {
   "hash": "ec7476cd5298a73f69e8eecc398cdeac6e308767034e2d84faebe029453106ad"
  },
  "kernelspec": {
   "display_name": "Python 3.9.12 ('dec')",
   "language": "python",
   "name": "python3"
  },
  "language_info": {
   "codemirror_mode": {
    "name": "ipython",
    "version": 3
   },
   "file_extension": ".py",
   "mimetype": "text/x-python",
   "name": "python",
   "nbconvert_exporter": "python",
   "pygments_lexer": "ipython3",
   "version": "3.9.16"
  },
  "orig_nbformat": 4
 },
 "nbformat": 4,
 "nbformat_minor": 2
}
